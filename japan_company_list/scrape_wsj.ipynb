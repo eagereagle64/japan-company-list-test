{
 "cells": [
  {
   "cell_type": "code",
   "execution_count": 127,
   "metadata": {
    "collapsed": true
   },
   "outputs": [],
   "source": [
    "import time\n",
    "from collections import namedtuple\n",
    "\n",
    "import pandas as pd\n",
    "import requests\n",
    "from bs4 import BeautifulSoup\n",
    "from pathlib import Path"
   ]
  },
  {
   "cell_type": "markdown",
   "source": [
    "## Overview\n",
    "\n",
    "Scrapes Wall Street Journal page the list of Japanese companies"
   ],
   "metadata": {
    "collapsed": false,
    "pycharm": {
     "name": "#%% md\n"
    }
   }
  },
  {
   "cell_type": "code",
   "execution_count": 128,
   "outputs": [],
   "source": [
    "cwd = Path.cwd()\n",
    "html_directory = cwd / 'html'\n",
    "\n",
    "if not html_directory.exists():\n",
    "    html_directory.mkdir()"
   ],
   "metadata": {
    "collapsed": false,
    "pycharm": {
     "name": "#%%\n"
    }
   }
  },
  {
   "cell_type": "markdown",
   "source": [
    "### Get response and save to a file\n",
    "\n",
    "Change headers to simulate user browsing. WSJ blocks scraping attempts from programs/scripts.\n",
    "\n",
    "Set `refresh` to `True` to ignore cache and force retrieve the HTML content."
   ],
   "metadata": {
    "collapsed": false,
    "pycharm": {
     "name": "#%% md\n"
    }
   }
  },
  {
   "cell_type": "code",
   "execution_count": 129,
   "outputs": [],
   "source": [
    "# Get the HTML and cache it in local disk\n",
    "index_page_url = 'https://www.wsj.com/market-data/quotes/company-list/country/japan'\n",
    "index_html_file = html_directory / 'wsj_index_page.html'\n",
    "\n",
    "def send_request(url, output_file, refresh=False):\n",
    "    # Fake headers to simulate user browsing, rather than a Python script\n",
    "    headers = {\n",
    "        'User-Agent': 'Mozilla/5.0 (Macintosh; Intel Mac OS X 10_10_1) AppleWebKit/537.36 (KHTML, like Gecko) Chrome/39.0.2171.95 Safari/537.36'\n",
    "    }\n",
    "\n",
    "    if refresh or not output_file.exists():\n",
    "        print(f'Retrieving content from URL: {url}')\n",
    "        html_content = requests.get(url, headers=headers).content\n",
    "        html_content = html_content.decode()\n",
    "        output_file.write_text(html_content, encoding='UTF-8')\n",
    "        time.sleep(2)\n",
    "\n",
    "send_request(index_page_url, index_html_file)"
   ],
   "metadata": {
    "collapsed": false,
    "pycharm": {
     "name": "#%%\n"
    }
   }
  },
  {
   "cell_type": "markdown",
   "source": [
    "### Parse Index Page and find out the last number of the page"
   ],
   "metadata": {
    "collapsed": false,
    "pycharm": {
     "name": "#%% md\n"
    }
   }
  },
  {
   "cell_type": "code",
   "execution_count": 130,
   "outputs": [
    {
     "name": "stdout",
     "output_type": "stream",
     "text": [
      "<!DOCTYPE html>\n",
      " <!--TESLA DESKTOP16 V1--> <html data-region=\"na,us\"> <head> <meta content=\"text/html; charset=utf-8\" http-equiv=\"Content-Type\"/> <meta content=\"IE=edge\" http-equiv=\"X-UA-Compatible\"/> <!--__tcfapi stub--> <!--tcfapi--> <script type=\"text/javascript\">\n",
      "!function () { var e = function () { var e, t = \"__tcfapiLocator\", a = [], n = window; for (; n;) { try { if (n.frames[t]) { e = n; break } } catch (e) { } if (n === window.top) break; n = n.parent } e || (!function e() { var a = n.\n"
     ]
    }
   ],
   "source": [
    "soup = BeautifulSoup(index_html_file.read_text(), 'html.parser')\n",
    "print(str(soup)[:500])"
   ],
   "metadata": {
    "collapsed": false,
    "pycharm": {
     "name": "#%%\n"
    }
   }
  },
  {
   "cell_type": "code",
   "execution_count": 131,
   "outputs": [
    {
     "name": "stdout",
     "output_type": "stream",
     "text": [
      "There are 23 page(s) to scrape\n"
     ]
    }
   ],
   "source": [
    "page_number = soup.find(class_='cl-pagination').find_all('li')[-2]\n",
    "page_number = page_number.get_text()\n",
    "page_number = page_number.split('-')[1]\n",
    "page_number = int(page_number)\n",
    "print(f'There are {page_number} page(s) to scrape')"
   ],
   "metadata": {
    "collapsed": false,
    "pycharm": {
     "name": "#%%\n"
    }
   }
  },
  {
   "cell_type": "markdown",
   "source": [
    "### Scrape all pages and save to local disk, put some delay in between, so as to not be mistaken as a bot"
   ],
   "metadata": {
    "collapsed": false,
    "pycharm": {
     "name": "#%% md\n"
    }
   }
  },
  {
   "cell_type": "code",
   "execution_count": 132,
   "outputs": [],
   "source": [
    "page_output_file_list = []\n",
    "\n",
    "for page in range(1, page_number + 1):\n",
    "    page_url = f'{index_page_url}/{page}'\n",
    "    page_output_file = html_directory / f'wsj{page}.html'\n",
    "    page_output_file_list.append(page_output_file)\n",
    "    send_request(page_url, page_output_file, refresh=False)"
   ],
   "metadata": {
    "collapsed": false,
    "pycharm": {
     "name": "#%%\n"
    }
   }
  },
  {
   "cell_type": "markdown",
   "source": [
    "### Parse HTML"
   ],
   "metadata": {
    "collapsed": false,
    "pycharm": {
     "name": "#%% md\n"
    }
   }
  },
  {
   "cell_type": "code",
   "execution_count": 133,
   "outputs": [
    {
     "name": "stdout",
     "output_type": "stream",
     "text": [
      "3322\n"
     ]
    },
    {
     "data": {
      "text/plain": "[{'CompanyNameA': '&Do Holdings Co. Ltd. (3457)',\n  'CompanyNameB': '&Do Holdings Co. Ltd. (3457)',\n  'CompanyNameC': '&Do Holdings Co. Ltd.',\n  'Exchange': 'XTKS',\n  'Industry': 'Real Estate Developers'},\n {'CompanyNameA': '21LADY Co. Ltd. (3346)',\n  'CompanyNameB': '21LADY Co. Ltd. (3346)',\n  'CompanyNameC': '21LADY Co. Ltd.',\n  'Exchange': 'XNGO',\n  'Industry': 'Diversified Business Services'},\n {'CompanyNameA': '3-D Matrix Ltd. (7777)',\n  'CompanyNameB': '3-D Matrix Ltd. (7777)',\n  'CompanyNameC': '3-D Matrix Ltd.',\n  'Exchange': 'XJAS',\n  'Industry': 'Chemicals'},\n {'CompanyNameA': '4Cs HD Co. Ltd. (3726)',\n  'CompanyNameB': '4Cs HD Co. Ltd. (3726)',\n  'CompanyNameC': '4Cs HD Co. Ltd.',\n  'Exchange': 'XTKS',\n  'Industry': 'Specialty Retail'},\n {'CompanyNameA': '77 Bank Ltd. (8341)',\n  'CompanyNameB': '77 Bank Ltd. (8341)',\n  'CompanyNameC': '77 Bank Ltd.',\n  'Exchange': 'XTKS',\n  'Industry': 'Banking'}]"
     },
     "execution_count": 133,
     "metadata": {},
     "output_type": "execute_result"
    }
   ],
   "source": [
    "company_list = []\n",
    "\n",
    "for html_page in page_output_file_list:\n",
    "    soup = BeautifulSoup(html_page.read_text(), 'html.parser')\n",
    "    table = soup.find('table', class_='cl-table')\n",
    "    rows = table.find('tbody').find_all('tr')\n",
    "\n",
    "    for r in rows:\n",
    "        Company = namedtuple(\n",
    "            'Company',\n",
    "            [\n",
    "                'CompanyNameA',\n",
    "                'CompanyNameB',\n",
    "                'CompanyNameC',\n",
    "                'Exchange',\n",
    "                'Industry',\n",
    "            ]\n",
    "        )\n",
    "        cells = r.find_all()\n",
    "        cells = [c.get_text().strip() for c in cells]\n",
    "        company = Company(*cells)\n",
    "        company_list.append(company._asdict())\n",
    "\n",
    "print(len(company_list))\n",
    "company_list[:5]"
   ],
   "metadata": {
    "collapsed": false,
    "pycharm": {
     "name": "#%%\n"
    }
   }
  },
  {
   "cell_type": "markdown",
   "source": [
    "### Load the data to Pandas data frame"
   ],
   "metadata": {
    "collapsed": false,
    "pycharm": {
     "name": "#%% md\n"
    }
   }
  },
  {
   "cell_type": "code",
   "execution_count": 134,
   "outputs": [
    {
     "name": "stdout",
     "output_type": "stream",
     "text": [
      "<class 'pandas.core.frame.DataFrame'>\n",
      "RangeIndex: 3322 entries, 0 to 3321\n",
      "Data columns (total 5 columns):\n",
      " #   Column        Non-Null Count  Dtype \n",
      "---  ------        --------------  ----- \n",
      " 0   CompanyNameA  3322 non-null   object\n",
      " 1   CompanyNameB  3322 non-null   object\n",
      " 2   CompanyNameC  3322 non-null   object\n",
      " 3   Exchange      3322 non-null   object\n",
      " 4   Industry      3322 non-null   object\n",
      "dtypes: object(5)\n",
      "memory usage: 129.9+ KB\n"
     ]
    },
    {
     "data": {
      "text/plain": "                   CompanyNameA                  CompanyNameB  \\\n0  &Do Holdings Co. Ltd. (3457)  &Do Holdings Co. Ltd. (3457)   \n1        21LADY Co. Ltd. (3346)        21LADY Co. Ltd. (3346)   \n2        3-D Matrix Ltd. (7777)        3-D Matrix Ltd. (7777)   \n3        4Cs HD Co. Ltd. (3726)        4Cs HD Co. Ltd. (3726)   \n4           77 Bank Ltd. (8341)           77 Bank Ltd. (8341)   \n\n            CompanyNameC Exchange                       Industry  \n0  &Do Holdings Co. Ltd.     XTKS         Real Estate Developers  \n1        21LADY Co. Ltd.     XNGO  Diversified Business Services  \n2        3-D Matrix Ltd.     XJAS                      Chemicals  \n3        4Cs HD Co. Ltd.     XTKS               Specialty Retail  \n4           77 Bank Ltd.     XTKS                        Banking  ",
      "text/html": "<div>\n<style scoped>\n    .dataframe tbody tr th:only-of-type {\n        vertical-align: middle;\n    }\n\n    .dataframe tbody tr th {\n        vertical-align: top;\n    }\n\n    .dataframe thead th {\n        text-align: right;\n    }\n</style>\n<table border=\"1\" class=\"dataframe\">\n  <thead>\n    <tr style=\"text-align: right;\">\n      <th></th>\n      <th>CompanyNameA</th>\n      <th>CompanyNameB</th>\n      <th>CompanyNameC</th>\n      <th>Exchange</th>\n      <th>Industry</th>\n    </tr>\n  </thead>\n  <tbody>\n    <tr>\n      <th>0</th>\n      <td>&amp;Do Holdings Co. Ltd. (3457)</td>\n      <td>&amp;Do Holdings Co. Ltd. (3457)</td>\n      <td>&amp;Do Holdings Co. Ltd.</td>\n      <td>XTKS</td>\n      <td>Real Estate Developers</td>\n    </tr>\n    <tr>\n      <th>1</th>\n      <td>21LADY Co. Ltd. (3346)</td>\n      <td>21LADY Co. Ltd. (3346)</td>\n      <td>21LADY Co. Ltd.</td>\n      <td>XNGO</td>\n      <td>Diversified Business Services</td>\n    </tr>\n    <tr>\n      <th>2</th>\n      <td>3-D Matrix Ltd. (7777)</td>\n      <td>3-D Matrix Ltd. (7777)</td>\n      <td>3-D Matrix Ltd.</td>\n      <td>XJAS</td>\n      <td>Chemicals</td>\n    </tr>\n    <tr>\n      <th>3</th>\n      <td>4Cs HD Co. Ltd. (3726)</td>\n      <td>4Cs HD Co. Ltd. (3726)</td>\n      <td>4Cs HD Co. Ltd.</td>\n      <td>XTKS</td>\n      <td>Specialty Retail</td>\n    </tr>\n    <tr>\n      <th>4</th>\n      <td>77 Bank Ltd. (8341)</td>\n      <td>77 Bank Ltd. (8341)</td>\n      <td>77 Bank Ltd.</td>\n      <td>XTKS</td>\n      <td>Banking</td>\n    </tr>\n  </tbody>\n</table>\n</div>"
     },
     "execution_count": 134,
     "metadata": {},
     "output_type": "execute_result"
    }
   ],
   "source": [
    "df = pd.DataFrame(company_list)\n",
    "df.info()\n",
    "df.head()"
   ],
   "metadata": {
    "collapsed": false,
    "pycharm": {
     "name": "#%%\n"
    }
   }
  },
  {
   "cell_type": "code",
   "execution_count": 135,
   "outputs": [
    {
     "data": {
      "text/plain": "                    Name                           TSE Exchange  \\\n0  &Do Holdings Co. Ltd.  &Do Holdings Co. Ltd. (3457)     XTKS   \n1        21LADY Co. Ltd.        21LADY Co. Ltd. (3346)     XNGO   \n2        3-D Matrix Ltd.        3-D Matrix Ltd. (7777)     XJAS   \n3        4Cs HD Co. Ltd.        4Cs HD Co. Ltd. (3726)     XTKS   \n4           77 Bank Ltd.           77 Bank Ltd. (8341)     XTKS   \n\n                        Industry  \n0         Real Estate Developers  \n1  Diversified Business Services  \n2                      Chemicals  \n3               Specialty Retail  \n4                        Banking  ",
      "text/html": "<div>\n<style scoped>\n    .dataframe tbody tr th:only-of-type {\n        vertical-align: middle;\n    }\n\n    .dataframe tbody tr th {\n        vertical-align: top;\n    }\n\n    .dataframe thead th {\n        text-align: right;\n    }\n</style>\n<table border=\"1\" class=\"dataframe\">\n  <thead>\n    <tr style=\"text-align: right;\">\n      <th></th>\n      <th>Name</th>\n      <th>TSE</th>\n      <th>Exchange</th>\n      <th>Industry</th>\n    </tr>\n  </thead>\n  <tbody>\n    <tr>\n      <th>0</th>\n      <td>&amp;Do Holdings Co. Ltd.</td>\n      <td>&amp;Do Holdings Co. Ltd. (3457)</td>\n      <td>XTKS</td>\n      <td>Real Estate Developers</td>\n    </tr>\n    <tr>\n      <th>1</th>\n      <td>21LADY Co. Ltd.</td>\n      <td>21LADY Co. Ltd. (3346)</td>\n      <td>XNGO</td>\n      <td>Diversified Business Services</td>\n    </tr>\n    <tr>\n      <th>2</th>\n      <td>3-D Matrix Ltd.</td>\n      <td>3-D Matrix Ltd. (7777)</td>\n      <td>XJAS</td>\n      <td>Chemicals</td>\n    </tr>\n    <tr>\n      <th>3</th>\n      <td>4Cs HD Co. Ltd.</td>\n      <td>4Cs HD Co. Ltd. (3726)</td>\n      <td>XTKS</td>\n      <td>Specialty Retail</td>\n    </tr>\n    <tr>\n      <th>4</th>\n      <td>77 Bank Ltd.</td>\n      <td>77 Bank Ltd. (8341)</td>\n      <td>XTKS</td>\n      <td>Banking</td>\n    </tr>\n  </tbody>\n</table>\n</div>"
     },
     "execution_count": 135,
     "metadata": {},
     "output_type": "execute_result"
    }
   ],
   "source": [
    "df.rename(columns={\n",
    "    'CompanyNameC': 'Name',\n",
    "    'CompanyNameB': 'TSE',\n",
    "}, inplace=True)\n",
    "df = df[['Name', 'TSE', 'Exchange', 'Industry']]\n",
    "df.head()"
   ],
   "metadata": {
    "collapsed": false,
    "pycharm": {
     "name": "#%%\n"
    }
   }
  },
  {
   "cell_type": "code",
   "execution_count": 137,
   "outputs": [
    {
     "data": {
      "text/plain": "                    Name   TSE Exchange                       Industry\n0  &Do Holdings Co. Ltd.  3457     XTKS         Real Estate Developers\n1        21LADY Co. Ltd.  3346     XNGO  Diversified Business Services\n2        3-D Matrix Ltd.  7777     XJAS                      Chemicals\n3        4Cs HD Co. Ltd.  3726     XTKS               Specialty Retail\n4           77 Bank Ltd.  8341     XTKS                        Banking",
      "text/html": "<div>\n<style scoped>\n    .dataframe tbody tr th:only-of-type {\n        vertical-align: middle;\n    }\n\n    .dataframe tbody tr th {\n        vertical-align: top;\n    }\n\n    .dataframe thead th {\n        text-align: right;\n    }\n</style>\n<table border=\"1\" class=\"dataframe\">\n  <thead>\n    <tr style=\"text-align: right;\">\n      <th></th>\n      <th>Name</th>\n      <th>TSE</th>\n      <th>Exchange</th>\n      <th>Industry</th>\n    </tr>\n  </thead>\n  <tbody>\n    <tr>\n      <th>0</th>\n      <td>&amp;Do Holdings Co. Ltd.</td>\n      <td>3457</td>\n      <td>XTKS</td>\n      <td>Real Estate Developers</td>\n    </tr>\n    <tr>\n      <th>1</th>\n      <td>21LADY Co. Ltd.</td>\n      <td>3346</td>\n      <td>XNGO</td>\n      <td>Diversified Business Services</td>\n    </tr>\n    <tr>\n      <th>2</th>\n      <td>3-D Matrix Ltd.</td>\n      <td>7777</td>\n      <td>XJAS</td>\n      <td>Chemicals</td>\n    </tr>\n    <tr>\n      <th>3</th>\n      <td>4Cs HD Co. Ltd.</td>\n      <td>3726</td>\n      <td>XTKS</td>\n      <td>Specialty Retail</td>\n    </tr>\n    <tr>\n      <th>4</th>\n      <td>77 Bank Ltd.</td>\n      <td>8341</td>\n      <td>XTKS</td>\n      <td>Banking</td>\n    </tr>\n  </tbody>\n</table>\n</div>"
     },
     "execution_count": 137,
     "metadata": {},
     "output_type": "execute_result"
    }
   ],
   "source": [
    "import re\n",
    "\n",
    "def get_symbol(value):\n",
    "    symbol = re.sub(r'.*\\((\\d+)\\)', r'\\1', value)\n",
    "    return symbol\n",
    "\n",
    "df['TSE'] = df['TSE'].apply(get_symbol)\n",
    "df"
   ],
   "metadata": {
    "collapsed": false,
    "pycharm": {
     "name": "#%%\n"
    }
   }
  },
  {
   "cell_type": "markdown",
   "source": [
    "### Check company count per industry"
   ],
   "metadata": {
    "collapsed": false,
    "pycharm": {
     "name": "#%% md\n"
    }
   }
  },
  {
   "cell_type": "code",
   "execution_count": 141,
   "outputs": [
    {
     "data": {
      "text/plain": "Software                  182\nConstruction              137\nChemicals                 136\nReal Estate Developers    122\nIndustrial Machinery      119\n                         ... \nInsurance Brokering         1\nHealthcare REITs            1\nWater Utilities             1\nAlternative Fuels           1\nTobacco                     1\nName: Industry, Length: 117, dtype: int64"
     },
     "execution_count": 141,
     "metadata": {},
     "output_type": "execute_result"
    }
   ],
   "source": [
    "df['Industry'].value_counts()"
   ],
   "metadata": {
    "collapsed": false,
    "pycharm": {
     "name": "#%%\n"
    }
   }
  },
  {
   "cell_type": "markdown",
   "source": [
    "### Export"
   ],
   "metadata": {
    "collapsed": false,
    "pycharm": {
     "name": "#%% md\n"
    }
   }
  },
  {
   "cell_type": "code",
   "execution_count": 142,
   "outputs": [
    {
     "name": "stdout",
     "output_type": "stream",
     "text": [
      "Finished\n"
     ]
    }
   ],
   "source": [
    "df.to_csv('japanese_companies_wsj.csv', index=False, encoding='UTF-8')\n",
    "print('Finished')"
   ],
   "metadata": {
    "collapsed": false,
    "pycharm": {
     "name": "#%%\n"
    }
   }
  },
  {
   "cell_type": "code",
   "execution_count": null,
   "outputs": [],
   "source": [],
   "metadata": {
    "collapsed": false,
    "pycharm": {
     "name": "#%%\n"
    }
   }
  }
 ],
 "metadata": {
  "kernelspec": {
   "display_name": "Python 3",
   "language": "python",
   "name": "python3"
  },
  "language_info": {
   "codemirror_mode": {
    "name": "ipython",
    "version": 2
   },
   "file_extension": ".py",
   "mimetype": "text/x-python",
   "name": "python",
   "nbconvert_exporter": "python",
   "pygments_lexer": "ipython2",
   "version": "2.7.6"
  }
 },
 "nbformat": 4,
 "nbformat_minor": 0
}