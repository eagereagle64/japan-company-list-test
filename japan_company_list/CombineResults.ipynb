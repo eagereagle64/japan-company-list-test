{
 "cells": [
  {
   "cell_type": "code",
   "execution_count": 36,
   "metadata": {
    "collapsed": true
   },
   "outputs": [],
   "source": [
    "import pandas as pd"
   ]
  },
  {
   "cell_type": "code",
   "execution_count": 37,
   "outputs": [
    {
     "name": "stdout",
     "output_type": "stream",
     "text": [
      "<class 'pandas.core.frame.DataFrame'>\n",
      "RangeIndex: 3322 entries, 0 to 3321\n",
      "Data columns (total 5 columns):\n",
      " #   Column    Non-Null Count  Dtype \n",
      "---  ------    --------------  ----- \n",
      " 0   English   3322 non-null   object\n",
      " 1   TSE       3322 non-null   object\n",
      " 2   Exchange  3322 non-null   object\n",
      " 3   Industry  3318 non-null   object\n",
      " 4   Source    3322 non-null   object\n",
      "dtypes: object(5)\n",
      "memory usage: 129.9+ KB\n"
     ]
    },
    {
     "data": {
      "text/plain": "                 English   TSE Exchange                       Industry Source\n0  &Do Holdings Co. Ltd.  3457     XTKS         Real Estate Developers   1WSJ\n1        21LADY Co. Ltd.  3346     XNGO  Diversified Business Services   1WSJ\n2        3-D Matrix Ltd.  7777     XJAS                      Chemicals   1WSJ\n3        4Cs HD Co. Ltd.  3726     XTKS               Specialty Retail   1WSJ\n4           77 Bank Ltd.  8341     XTKS                        Banking   1WSJ",
      "text/html": "<div>\n<style scoped>\n    .dataframe tbody tr th:only-of-type {\n        vertical-align: middle;\n    }\n\n    .dataframe tbody tr th {\n        vertical-align: top;\n    }\n\n    .dataframe thead th {\n        text-align: right;\n    }\n</style>\n<table border=\"1\" class=\"dataframe\">\n  <thead>\n    <tr style=\"text-align: right;\">\n      <th></th>\n      <th>English</th>\n      <th>TSE</th>\n      <th>Exchange</th>\n      <th>Industry</th>\n      <th>Source</th>\n    </tr>\n  </thead>\n  <tbody>\n    <tr>\n      <th>0</th>\n      <td>&amp;Do Holdings Co. Ltd.</td>\n      <td>3457</td>\n      <td>XTKS</td>\n      <td>Real Estate Developers</td>\n      <td>1WSJ</td>\n    </tr>\n    <tr>\n      <th>1</th>\n      <td>21LADY Co. Ltd.</td>\n      <td>3346</td>\n      <td>XNGO</td>\n      <td>Diversified Business Services</td>\n      <td>1WSJ</td>\n    </tr>\n    <tr>\n      <th>2</th>\n      <td>3-D Matrix Ltd.</td>\n      <td>7777</td>\n      <td>XJAS</td>\n      <td>Chemicals</td>\n      <td>1WSJ</td>\n    </tr>\n    <tr>\n      <th>3</th>\n      <td>4Cs HD Co. Ltd.</td>\n      <td>3726</td>\n      <td>XTKS</td>\n      <td>Specialty Retail</td>\n      <td>1WSJ</td>\n    </tr>\n    <tr>\n      <th>4</th>\n      <td>77 Bank Ltd.</td>\n      <td>8341</td>\n      <td>XTKS</td>\n      <td>Banking</td>\n      <td>1WSJ</td>\n    </tr>\n  </tbody>\n</table>\n</div>"
     },
     "execution_count": 37,
     "metadata": {},
     "output_type": "execute_result"
    }
   ],
   "source": [
    "wsj_df = pd.read_csv('japanese_companies_wsj.csv', dtype='object')\n",
    "wsj_df = wsj_df.rename(columns={'Name': 'English'})\n",
    "wsj_df['Source'] = '1WSJ'\n",
    "wsj_df.info()\n",
    "wsj_df.head()"
   ],
   "metadata": {
    "collapsed": false,
    "pycharm": {
     "name": "#%%\n"
    }
   }
  },
  {
   "cell_type": "markdown",
   "source": [],
   "metadata": {
    "collapsed": false
   }
  },
  {
   "cell_type": "code",
   "execution_count": 38,
   "outputs": [
    {
     "name": "stdout",
     "output_type": "stream",
     "text": [
      "<class 'pandas.core.frame.DataFrame'>\n",
      "RangeIndex: 601 entries, 0 to 600\n",
      "Data columns (total 5 columns):\n",
      " #   Column    Non-Null Count  Dtype \n",
      "---  ------    --------------  ----- \n",
      " 0   English   601 non-null    object\n",
      " 1   Japanese  591 non-null    object\n",
      " 2   Romaji    589 non-null    object\n",
      " 3   TSE       375 non-null    object\n",
      " 4   Source    601 non-null    object\n",
      "dtypes: object(5)\n",
      "memory usage: 23.6+ KB\n"
     ]
    },
    {
     "data": {
      "text/plain": "      English     Japanese                                 Romaji   TSE Source\n0     77 Bank    株式会社七十七銀行  Kabushiki-gaisha Shichijūshichi Ginkō  8341  2WIKI\n1  81 Produce     81プロデュース                      Eitiwan Purodyūsu   NaN  2WIKI\n2        Acom      アコム株式会社                 Akomu Kabushiki-gaisha  8572  2WIKI\n3   Advantest  株式会社アドバンテスト          Kabushiki-gaisha Adobantesuto  6857  2WIKI\n4         Æon      イオン株式会社                   Ion Kabushiki-gaisha  8267  2WIKI",
      "text/html": "<div>\n<style scoped>\n    .dataframe tbody tr th:only-of-type {\n        vertical-align: middle;\n    }\n\n    .dataframe tbody tr th {\n        vertical-align: top;\n    }\n\n    .dataframe thead th {\n        text-align: right;\n    }\n</style>\n<table border=\"1\" class=\"dataframe\">\n  <thead>\n    <tr style=\"text-align: right;\">\n      <th></th>\n      <th>English</th>\n      <th>Japanese</th>\n      <th>Romaji</th>\n      <th>TSE</th>\n      <th>Source</th>\n    </tr>\n  </thead>\n  <tbody>\n    <tr>\n      <th>0</th>\n      <td>77 Bank</td>\n      <td>株式会社七十七銀行</td>\n      <td>Kabushiki-gaisha Shichijūshichi Ginkō</td>\n      <td>8341</td>\n      <td>2WIKI</td>\n    </tr>\n    <tr>\n      <th>1</th>\n      <td>81 Produce</td>\n      <td>81プロデュース</td>\n      <td>Eitiwan Purodyūsu</td>\n      <td>NaN</td>\n      <td>2WIKI</td>\n    </tr>\n    <tr>\n      <th>2</th>\n      <td>Acom</td>\n      <td>アコム株式会社</td>\n      <td>Akomu Kabushiki-gaisha</td>\n      <td>8572</td>\n      <td>2WIKI</td>\n    </tr>\n    <tr>\n      <th>3</th>\n      <td>Advantest</td>\n      <td>株式会社アドバンテスト</td>\n      <td>Kabushiki-gaisha Adobantesuto</td>\n      <td>6857</td>\n      <td>2WIKI</td>\n    </tr>\n    <tr>\n      <th>4</th>\n      <td>Æon</td>\n      <td>イオン株式会社</td>\n      <td>Ion Kabushiki-gaisha</td>\n      <td>8267</td>\n      <td>2WIKI</td>\n    </tr>\n  </tbody>\n</table>\n</div>"
     },
     "execution_count": 38,
     "metadata": {},
     "output_type": "execute_result"
    }
   ],
   "source": [
    "wiki_df = pd.read_csv('japanese_companies_wiki.csv', dtype='object')\n",
    "wiki_df['Source'] = '2WIKI'\n",
    "wiki_df.info()\n",
    "wiki_df.head()"
   ],
   "metadata": {
    "collapsed": false,
    "pycharm": {
     "name": "#%%\n"
    }
   }
  },
  {
   "cell_type": "markdown",
   "source": [
    "### Merge Wikipedia and WSJ results"
   ],
   "metadata": {
    "collapsed": false,
    "pycharm": {
     "name": "#%% md\n"
    }
   }
  },
  {
   "cell_type": "code",
   "execution_count": 39,
   "outputs": [
    {
     "name": "stdout",
     "output_type": "stream",
     "text": [
      "<class 'pandas.core.frame.DataFrame'>\n",
      "RangeIndex: 3923 entries, 0 to 3922\n",
      "Data columns (total 7 columns):\n",
      " #   Column    Non-Null Count  Dtype \n",
      "---  ------    --------------  ----- \n",
      " 0   English   3923 non-null   object\n",
      " 1   TSE       3697 non-null   object\n",
      " 2   Exchange  3322 non-null   object\n",
      " 3   Industry  3318 non-null   object\n",
      " 4   Source    3923 non-null   object\n",
      " 5   Japanese  591 non-null    object\n",
      " 6   Romaji    589 non-null    object\n",
      "dtypes: object(7)\n",
      "memory usage: 214.7+ KB\n"
     ]
    }
   ],
   "source": [
    "df = pd.concat([wsj_df, wiki_df]).reset_index(drop=True)\n",
    "df.info()"
   ],
   "metadata": {
    "collapsed": false,
    "pycharm": {
     "name": "#%%\n"
    }
   }
  },
  {
   "cell_type": "code",
   "execution_count": 40,
   "outputs": [
    {
     "data": {
      "text/plain": "                    English   TSE Exchange                       Industry  \\\n0     &Do Holdings Co. Ltd.  3457     XTKS         Real Estate Developers   \n1           21LADY Co. Ltd.  3346     XNGO  Diversified Business Services   \n2           3-D Matrix Ltd.  7777     XJAS                      Chemicals   \n3           4Cs HD Co. Ltd.  3726     XTKS               Specialty Retail   \n3322                77 Bank  8341      NaN                            NaN   \n\n     Source   Japanese                                 Romaji  \n0      1WSJ        NaN                                    NaN  \n1      1WSJ        NaN                                    NaN  \n2      1WSJ        NaN                                    NaN  \n3      1WSJ        NaN                                    NaN  \n3322  2WIKI  株式会社七十七銀行  Kabushiki-gaisha Shichijūshichi Ginkō  ",
      "text/html": "<div>\n<style scoped>\n    .dataframe tbody tr th:only-of-type {\n        vertical-align: middle;\n    }\n\n    .dataframe tbody tr th {\n        vertical-align: top;\n    }\n\n    .dataframe thead th {\n        text-align: right;\n    }\n</style>\n<table border=\"1\" class=\"dataframe\">\n  <thead>\n    <tr style=\"text-align: right;\">\n      <th></th>\n      <th>English</th>\n      <th>TSE</th>\n      <th>Exchange</th>\n      <th>Industry</th>\n      <th>Source</th>\n      <th>Japanese</th>\n      <th>Romaji</th>\n    </tr>\n  </thead>\n  <tbody>\n    <tr>\n      <th>0</th>\n      <td>&amp;Do Holdings Co. Ltd.</td>\n      <td>3457</td>\n      <td>XTKS</td>\n      <td>Real Estate Developers</td>\n      <td>1WSJ</td>\n      <td>NaN</td>\n      <td>NaN</td>\n    </tr>\n    <tr>\n      <th>1</th>\n      <td>21LADY Co. Ltd.</td>\n      <td>3346</td>\n      <td>XNGO</td>\n      <td>Diversified Business Services</td>\n      <td>1WSJ</td>\n      <td>NaN</td>\n      <td>NaN</td>\n    </tr>\n    <tr>\n      <th>2</th>\n      <td>3-D Matrix Ltd.</td>\n      <td>7777</td>\n      <td>XJAS</td>\n      <td>Chemicals</td>\n      <td>1WSJ</td>\n      <td>NaN</td>\n      <td>NaN</td>\n    </tr>\n    <tr>\n      <th>3</th>\n      <td>4Cs HD Co. Ltd.</td>\n      <td>3726</td>\n      <td>XTKS</td>\n      <td>Specialty Retail</td>\n      <td>1WSJ</td>\n      <td>NaN</td>\n      <td>NaN</td>\n    </tr>\n    <tr>\n      <th>3322</th>\n      <td>77 Bank</td>\n      <td>8341</td>\n      <td>NaN</td>\n      <td>NaN</td>\n      <td>2WIKI</td>\n      <td>株式会社七十七銀行</td>\n      <td>Kabushiki-gaisha Shichijūshichi Ginkō</td>\n    </tr>\n  </tbody>\n</table>\n</div>"
     },
     "execution_count": 40,
     "metadata": {},
     "output_type": "execute_result"
    }
   ],
   "source": [
    "df = df.sort_values(by=['English', 'Source'])\n",
    "df.head()"
   ],
   "metadata": {
    "collapsed": false,
    "pycharm": {
     "name": "#%%\n"
    }
   }
  },
  {
   "cell_type": "markdown",
   "source": [
    "### Deduplicate"
   ],
   "metadata": {
    "collapsed": false,
    "pycharm": {
     "name": "#%% md\n"
    }
   }
  },
  {
   "cell_type": "code",
   "execution_count": 41,
   "outputs": [
    {
     "name": "stdout",
     "output_type": "stream",
     "text": [
      "<class 'pandas.core.frame.DataFrame'>\n",
      "RangeIndex: 3385 entries, 0 to 3384\n",
      "Data columns (total 7 columns):\n",
      " #   Column    Non-Null Count  Dtype \n",
      "---  ------    --------------  ----- \n",
      " 0   English   3385 non-null   object\n",
      " 1   TSE       3384 non-null   object\n",
      " 2   Exchange  3081 non-null   object\n",
      " 3   Industry  3077 non-null   object\n",
      " 4   Source    3385 non-null   object\n",
      " 5   Japanese  303 non-null    object\n",
      " 6   Romaji    303 non-null    object\n",
      "dtypes: object(7)\n",
      "memory usage: 185.2+ KB\n"
     ]
    },
    {
     "data": {
      "text/plain": "                 English   TSE Exchange                       Industry Source  \\\n0  &Do Holdings Co. Ltd.  3457     XTKS         Real Estate Developers   1WSJ   \n1        21LADY Co. Ltd.  3346     XNGO  Diversified Business Services   1WSJ   \n2        3-D Matrix Ltd.  7777     XJAS                      Chemicals   1WSJ   \n3        4Cs HD Co. Ltd.  3726     XTKS               Specialty Retail   1WSJ   \n4                77 Bank  8341      NaN                            NaN  2WIKI   \n\n    Japanese                                 Romaji  \n0        NaN                                    NaN  \n1        NaN                                    NaN  \n2        NaN                                    NaN  \n3        NaN                                    NaN  \n4  株式会社七十七銀行  Kabushiki-gaisha Shichijūshichi Ginkō  ",
      "text/html": "<div>\n<style scoped>\n    .dataframe tbody tr th:only-of-type {\n        vertical-align: middle;\n    }\n\n    .dataframe tbody tr th {\n        vertical-align: top;\n    }\n\n    .dataframe thead th {\n        text-align: right;\n    }\n</style>\n<table border=\"1\" class=\"dataframe\">\n  <thead>\n    <tr style=\"text-align: right;\">\n      <th></th>\n      <th>English</th>\n      <th>TSE</th>\n      <th>Exchange</th>\n      <th>Industry</th>\n      <th>Source</th>\n      <th>Japanese</th>\n      <th>Romaji</th>\n    </tr>\n  </thead>\n  <tbody>\n    <tr>\n      <th>0</th>\n      <td>&amp;Do Holdings Co. Ltd.</td>\n      <td>3457</td>\n      <td>XTKS</td>\n      <td>Real Estate Developers</td>\n      <td>1WSJ</td>\n      <td>NaN</td>\n      <td>NaN</td>\n    </tr>\n    <tr>\n      <th>1</th>\n      <td>21LADY Co. Ltd.</td>\n      <td>3346</td>\n      <td>XNGO</td>\n      <td>Diversified Business Services</td>\n      <td>1WSJ</td>\n      <td>NaN</td>\n      <td>NaN</td>\n    </tr>\n    <tr>\n      <th>2</th>\n      <td>3-D Matrix Ltd.</td>\n      <td>7777</td>\n      <td>XJAS</td>\n      <td>Chemicals</td>\n      <td>1WSJ</td>\n      <td>NaN</td>\n      <td>NaN</td>\n    </tr>\n    <tr>\n      <th>3</th>\n      <td>4Cs HD Co. Ltd.</td>\n      <td>3726</td>\n      <td>XTKS</td>\n      <td>Specialty Retail</td>\n      <td>1WSJ</td>\n      <td>NaN</td>\n      <td>NaN</td>\n    </tr>\n    <tr>\n      <th>4</th>\n      <td>77 Bank</td>\n      <td>8341</td>\n      <td>NaN</td>\n      <td>NaN</td>\n      <td>2WIKI</td>\n      <td>株式会社七十七銀行</td>\n      <td>Kabushiki-gaisha Shichijūshichi Ginkō</td>\n    </tr>\n  </tbody>\n</table>\n</div>"
     },
     "execution_count": 41,
     "metadata": {},
     "output_type": "execute_result"
    }
   ],
   "source": [
    "df = df.drop_duplicates(subset=['TSE'], keep='first').reset_index(drop=True)\n",
    "df.info()\n",
    "df.head()"
   ],
   "metadata": {
    "collapsed": false,
    "pycharm": {
     "name": "#%%\n"
    }
   }
  },
  {
   "cell_type": "code",
   "execution_count": 44,
   "outputs": [
    {
     "name": "stdout",
     "output_type": "stream",
     "text": [
      "Finished\n"
     ]
    }
   ],
   "source": [
    "output_columns = [\n",
    "    'English', 'Japanese', 'Industry', 'TSE', 'Exchange', 'Source'\n",
    "]\n",
    "df.to_csv('japanese_companies.csv', index=False, encoding='UTF-8', columns=output_columns)\n",
    "print('Finished')"
   ],
   "metadata": {
    "collapsed": false,
    "pycharm": {
     "name": "#%%\n"
    }
   }
  },
  {
   "cell_type": "code",
   "execution_count": 45,
   "outputs": [
    {
     "data": {
      "text/plain": "                   English     Japanese  \\\n0    &Do Holdings Co. Ltd.          NaN   \n1          21LADY Co. Ltd.          NaN   \n2          3-D Matrix Ltd.          NaN   \n3          4Cs HD Co. Ltd.          NaN   \n4                  77 Bank    株式会社七十七銀行   \n..                     ...          ...   \n95          Akatsuki Corp.          NaN   \n96           Akatsuki Inc.          NaN   \n97  Akebono Brake Industry  曙ブレーキ工業株式会社   \n98              Akita Bank     株式会社秋田銀行   \n99             Albert Inc.          NaN   \n\n                                  Industry   TSE Exchange Source  \n0                   Real Estate Developers  3457     XTKS   1WSJ  \n1            Diversified Business Services  3346     XNGO   1WSJ  \n2                                Chemicals  7777     XJAS   1WSJ  \n3                         Specialty Retail  3726     XTKS   1WSJ  \n4                                      NaN  8341      NaN  2WIKI  \n..                                     ...   ...      ...    ...  \n95                              Securities  8737     XTKS   1WSJ  \n96                            Toys & Games  3932     XTKS   1WSJ  \n97                                     NaN  7238      NaN  2WIKI  \n98                                     NaN  8343      NaN  2WIKI  \n99  Advertising/Marketing/Public Relations  3906     XTKS   1WSJ  \n\n[100 rows x 6 columns]",
      "text/html": "<div>\n<style scoped>\n    .dataframe tbody tr th:only-of-type {\n        vertical-align: middle;\n    }\n\n    .dataframe tbody tr th {\n        vertical-align: top;\n    }\n\n    .dataframe thead th {\n        text-align: right;\n    }\n</style>\n<table border=\"1\" class=\"dataframe\">\n  <thead>\n    <tr style=\"text-align: right;\">\n      <th></th>\n      <th>English</th>\n      <th>Japanese</th>\n      <th>Industry</th>\n      <th>TSE</th>\n      <th>Exchange</th>\n      <th>Source</th>\n    </tr>\n  </thead>\n  <tbody>\n    <tr>\n      <th>0</th>\n      <td>&amp;Do Holdings Co. Ltd.</td>\n      <td>NaN</td>\n      <td>Real Estate Developers</td>\n      <td>3457</td>\n      <td>XTKS</td>\n      <td>1WSJ</td>\n    </tr>\n    <tr>\n      <th>1</th>\n      <td>21LADY Co. Ltd.</td>\n      <td>NaN</td>\n      <td>Diversified Business Services</td>\n      <td>3346</td>\n      <td>XNGO</td>\n      <td>1WSJ</td>\n    </tr>\n    <tr>\n      <th>2</th>\n      <td>3-D Matrix Ltd.</td>\n      <td>NaN</td>\n      <td>Chemicals</td>\n      <td>7777</td>\n      <td>XJAS</td>\n      <td>1WSJ</td>\n    </tr>\n    <tr>\n      <th>3</th>\n      <td>4Cs HD Co. Ltd.</td>\n      <td>NaN</td>\n      <td>Specialty Retail</td>\n      <td>3726</td>\n      <td>XTKS</td>\n      <td>1WSJ</td>\n    </tr>\n    <tr>\n      <th>4</th>\n      <td>77 Bank</td>\n      <td>株式会社七十七銀行</td>\n      <td>NaN</td>\n      <td>8341</td>\n      <td>NaN</td>\n      <td>2WIKI</td>\n    </tr>\n    <tr>\n      <th>...</th>\n      <td>...</td>\n      <td>...</td>\n      <td>...</td>\n      <td>...</td>\n      <td>...</td>\n      <td>...</td>\n    </tr>\n    <tr>\n      <th>95</th>\n      <td>Akatsuki Corp.</td>\n      <td>NaN</td>\n      <td>Securities</td>\n      <td>8737</td>\n      <td>XTKS</td>\n      <td>1WSJ</td>\n    </tr>\n    <tr>\n      <th>96</th>\n      <td>Akatsuki Inc.</td>\n      <td>NaN</td>\n      <td>Toys &amp; Games</td>\n      <td>3932</td>\n      <td>XTKS</td>\n      <td>1WSJ</td>\n    </tr>\n    <tr>\n      <th>97</th>\n      <td>Akebono Brake Industry</td>\n      <td>曙ブレーキ工業株式会社</td>\n      <td>NaN</td>\n      <td>7238</td>\n      <td>NaN</td>\n      <td>2WIKI</td>\n    </tr>\n    <tr>\n      <th>98</th>\n      <td>Akita Bank</td>\n      <td>株式会社秋田銀行</td>\n      <td>NaN</td>\n      <td>8343</td>\n      <td>NaN</td>\n      <td>2WIKI</td>\n    </tr>\n    <tr>\n      <th>99</th>\n      <td>Albert Inc.</td>\n      <td>NaN</td>\n      <td>Advertising/Marketing/Public Relations</td>\n      <td>3906</td>\n      <td>XTKS</td>\n      <td>1WSJ</td>\n    </tr>\n  </tbody>\n</table>\n<p>100 rows × 6 columns</p>\n</div>"
     },
     "execution_count": 45,
     "metadata": {},
     "output_type": "execute_result"
    }
   ],
   "source": [
    "df[output_columns].head(100)"
   ],
   "metadata": {
    "collapsed": false,
    "pycharm": {
     "name": "#%%\n"
    }
   }
  }
 ],
 "metadata": {
  "kernelspec": {
   "display_name": "Python 3",
   "language": "python",
   "name": "python3"
  },
  "language_info": {
   "codemirror_mode": {
    "name": "ipython",
    "version": 2
   },
   "file_extension": ".py",
   "mimetype": "text/x-python",
   "name": "python",
   "nbconvert_exporter": "python",
   "pygments_lexer": "ipython2",
   "version": "2.7.6"
  }
 },
 "nbformat": 4,
 "nbformat_minor": 0
}