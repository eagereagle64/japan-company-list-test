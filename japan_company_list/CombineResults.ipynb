{
 "cells": [
  {
   "cell_type": "code",
   "execution_count": 47,
   "metadata": {
    "collapsed": true,
    "jupyter": {
     "outputs_hidden": true
    },
    "pycharm": {
     "name": "#%%\n"
    }
   },
   "outputs": [],
   "source": [
    "import pandas as pd"
   ]
  },
  {
   "cell_type": "code",
   "execution_count": 48,
   "metadata": {
    "collapsed": false,
    "jupyter": {
     "outputs_hidden": false
    },
    "pycharm": {
     "name": "#%%\n"
    }
   },
   "outputs": [
    {
     "name": "stdout",
     "output_type": "stream",
     "text": [
      "<class 'pandas.core.frame.DataFrame'>\n",
      "RangeIndex: 3322 entries, 0 to 3321\n",
      "Data columns (total 5 columns):\n",
      " #   Column    Non-Null Count  Dtype \n",
      "---  ------    --------------  ----- \n",
      " 0   English   3322 non-null   object\n",
      " 1   TSE       3322 non-null   object\n",
      " 2   Exchange  3322 non-null   object\n",
      " 3   Industry  3318 non-null   object\n",
      " 4   Source    3322 non-null   object\n",
      "dtypes: object(5)\n",
      "memory usage: 129.9+ KB\n"
     ]
    },
    {
     "data": {
      "text/html": [
       "<div>\n",
       "<style scoped>\n",
       "    .dataframe tbody tr th:only-of-type {\n",
       "        vertical-align: middle;\n",
       "    }\n",
       "\n",
       "    .dataframe tbody tr th {\n",
       "        vertical-align: top;\n",
       "    }\n",
       "\n",
       "    .dataframe thead th {\n",
       "        text-align: right;\n",
       "    }\n",
       "</style>\n",
       "<table border=\"1\" class=\"dataframe\">\n",
       "  <thead>\n",
       "    <tr style=\"text-align: right;\">\n",
       "      <th></th>\n",
       "      <th>English</th>\n",
       "      <th>TSE</th>\n",
       "      <th>Exchange</th>\n",
       "      <th>Industry</th>\n",
       "      <th>Source</th>\n",
       "    </tr>\n",
       "  </thead>\n",
       "  <tbody>\n",
       "    <tr>\n",
       "      <th>0</th>\n",
       "      <td>&amp;Do Holdings Co. Ltd.</td>\n",
       "      <td>3457</td>\n",
       "      <td>XTKS</td>\n",
       "      <td>Real Estate Developers</td>\n",
       "      <td>1WSJ</td>\n",
       "    </tr>\n",
       "    <tr>\n",
       "      <th>1</th>\n",
       "      <td>21LADY Co. Ltd.</td>\n",
       "      <td>3346</td>\n",
       "      <td>XNGO</td>\n",
       "      <td>Diversified Business Services</td>\n",
       "      <td>1WSJ</td>\n",
       "    </tr>\n",
       "    <tr>\n",
       "      <th>2</th>\n",
       "      <td>3-D Matrix Ltd.</td>\n",
       "      <td>7777</td>\n",
       "      <td>XJAS</td>\n",
       "      <td>Chemicals</td>\n",
       "      <td>1WSJ</td>\n",
       "    </tr>\n",
       "    <tr>\n",
       "      <th>3</th>\n",
       "      <td>4Cs HD Co. Ltd.</td>\n",
       "      <td>3726</td>\n",
       "      <td>XTKS</td>\n",
       "      <td>Specialty Retail</td>\n",
       "      <td>1WSJ</td>\n",
       "    </tr>\n",
       "    <tr>\n",
       "      <th>4</th>\n",
       "      <td>77 Bank Ltd.</td>\n",
       "      <td>8341</td>\n",
       "      <td>XTKS</td>\n",
       "      <td>Banking</td>\n",
       "      <td>1WSJ</td>\n",
       "    </tr>\n",
       "  </tbody>\n",
       "</table>\n",
       "</div>"
      ],
      "text/plain": [
       "                 English   TSE Exchange                       Industry Source\n",
       "0  &Do Holdings Co. Ltd.  3457     XTKS         Real Estate Developers   1WSJ\n",
       "1        21LADY Co. Ltd.  3346     XNGO  Diversified Business Services   1WSJ\n",
       "2        3-D Matrix Ltd.  7777     XJAS                      Chemicals   1WSJ\n",
       "3        4Cs HD Co. Ltd.  3726     XTKS               Specialty Retail   1WSJ\n",
       "4           77 Bank Ltd.  8341     XTKS                        Banking   1WSJ"
      ]
     },
     "execution_count": 48,
     "metadata": {},
     "output_type": "execute_result"
    }
   ],
   "source": [
    "wsj_df = pd.read_csv('japanese_companies_wsj.csv', dtype='object')\n",
    "wsj_df = wsj_df.rename(columns={'Name': 'English'})\n",
    "wsj_df['Source'] = '1WSJ'\n",
    "wsj_df.info()\n",
    "wsj_df.head()"
   ]
  },
  {
   "cell_type": "markdown",
   "metadata": {
    "pycharm": {
     "name": "#%% md\n"
    }
   },
   "source": []
  },
  {
   "cell_type": "code",
   "execution_count": 49,
   "metadata": {
    "collapsed": false,
    "jupyter": {
     "outputs_hidden": false
    },
    "pycharm": {
     "name": "#%%\n"
    }
   },
   "outputs": [
    {
     "name": "stdout",
     "output_type": "stream",
     "text": [
      "<class 'pandas.core.frame.DataFrame'>\n",
      "RangeIndex: 601 entries, 0 to 600\n",
      "Data columns (total 5 columns):\n",
      " #   Column    Non-Null Count  Dtype \n",
      "---  ------    --------------  ----- \n",
      " 0   English   601 non-null    object\n",
      " 1   Japanese  591 non-null    object\n",
      " 2   Romaji    589 non-null    object\n",
      " 3   TSE       375 non-null    object\n",
      " 4   Source    601 non-null    object\n",
      "dtypes: object(5)\n",
      "memory usage: 23.6+ KB\n"
     ]
    },
    {
     "data": {
      "text/html": [
       "<div>\n",
       "<style scoped>\n",
       "    .dataframe tbody tr th:only-of-type {\n",
       "        vertical-align: middle;\n",
       "    }\n",
       "\n",
       "    .dataframe tbody tr th {\n",
       "        vertical-align: top;\n",
       "    }\n",
       "\n",
       "    .dataframe thead th {\n",
       "        text-align: right;\n",
       "    }\n",
       "</style>\n",
       "<table border=\"1\" class=\"dataframe\">\n",
       "  <thead>\n",
       "    <tr style=\"text-align: right;\">\n",
       "      <th></th>\n",
       "      <th>English</th>\n",
       "      <th>Japanese</th>\n",
       "      <th>Romaji</th>\n",
       "      <th>TSE</th>\n",
       "      <th>Source</th>\n",
       "    </tr>\n",
       "  </thead>\n",
       "  <tbody>\n",
       "    <tr>\n",
       "      <th>0</th>\n",
       "      <td>77 Bank</td>\n",
       "      <td>株式会社七十七銀行</td>\n",
       "      <td>Kabushiki-gaisha Shichijūshichi Ginkō</td>\n",
       "      <td>8341</td>\n",
       "      <td>2WIKI</td>\n",
       "    </tr>\n",
       "    <tr>\n",
       "      <th>1</th>\n",
       "      <td>81 Produce</td>\n",
       "      <td>81プロデュース</td>\n",
       "      <td>Eitiwan Purodyūsu</td>\n",
       "      <td>NaN</td>\n",
       "      <td>2WIKI</td>\n",
       "    </tr>\n",
       "    <tr>\n",
       "      <th>2</th>\n",
       "      <td>Acom</td>\n",
       "      <td>アコム株式会社</td>\n",
       "      <td>Akomu Kabushiki-gaisha</td>\n",
       "      <td>8572</td>\n",
       "      <td>2WIKI</td>\n",
       "    </tr>\n",
       "    <tr>\n",
       "      <th>3</th>\n",
       "      <td>Advantest</td>\n",
       "      <td>株式会社アドバンテスト</td>\n",
       "      <td>Kabushiki-gaisha Adobantesuto</td>\n",
       "      <td>6857</td>\n",
       "      <td>2WIKI</td>\n",
       "    </tr>\n",
       "    <tr>\n",
       "      <th>4</th>\n",
       "      <td>Æon</td>\n",
       "      <td>イオン株式会社</td>\n",
       "      <td>Ion Kabushiki-gaisha</td>\n",
       "      <td>8267</td>\n",
       "      <td>2WIKI</td>\n",
       "    </tr>\n",
       "  </tbody>\n",
       "</table>\n",
       "</div>"
      ],
      "text/plain": [
       "      English     Japanese                                 Romaji   TSE Source\n",
       "0     77 Bank    株式会社七十七銀行  Kabushiki-gaisha Shichijūshichi Ginkō  8341  2WIKI\n",
       "1  81 Produce     81プロデュース                      Eitiwan Purodyūsu   NaN  2WIKI\n",
       "2        Acom      アコム株式会社                 Akomu Kabushiki-gaisha  8572  2WIKI\n",
       "3   Advantest  株式会社アドバンテスト          Kabushiki-gaisha Adobantesuto  6857  2WIKI\n",
       "4         Æon      イオン株式会社                   Ion Kabushiki-gaisha  8267  2WIKI"
      ]
     },
     "execution_count": 49,
     "metadata": {},
     "output_type": "execute_result"
    }
   ],
   "source": [
    "wiki_df = pd.read_csv('japanese_companies_wiki.csv', dtype='object')\n",
    "wiki_df['Source'] = '2WIKI'\n",
    "wiki_df.info()\n",
    "wiki_df.head()"
   ]
  },
  {
   "cell_type": "markdown",
   "metadata": {
    "pycharm": {
     "name": "#%% md\n"
    }
   },
   "source": [
    "### Merge Wikipedia and WSJ results"
   ]
  },
  {
   "cell_type": "code",
   "execution_count": 50,
   "metadata": {
    "collapsed": false,
    "jupyter": {
     "outputs_hidden": false
    },
    "pycharm": {
     "name": "#%%\n"
    }
   },
   "outputs": [
    {
     "name": "stdout",
     "output_type": "stream",
     "text": [
      "<class 'pandas.core.frame.DataFrame'>\n",
      "RangeIndex: 3923 entries, 0 to 3922\n",
      "Data columns (total 7 columns):\n",
      " #   Column    Non-Null Count  Dtype \n",
      "---  ------    --------------  ----- \n",
      " 0   English   3923 non-null   object\n",
      " 1   TSE       3697 non-null   object\n",
      " 2   Exchange  3322 non-null   object\n",
      " 3   Industry  3318 non-null   object\n",
      " 4   Source    3923 non-null   object\n",
      " 5   Japanese  591 non-null    object\n",
      " 6   Romaji    589 non-null    object\n",
      "dtypes: object(7)\n",
      "memory usage: 214.7+ KB\n"
     ]
    }
   ],
   "source": [
    "df = pd.concat([wsj_df, wiki_df]).reset_index(drop=True)\n",
    "df.info()"
   ]
  },
  {
   "cell_type": "code",
   "execution_count": 52,
   "metadata": {
    "collapsed": false,
    "jupyter": {
     "outputs_hidden": false
    },
    "pycharm": {
     "name": "#%%\n"
    }
   },
   "outputs": [
    {
     "data": {
      "text/html": [
       "<div>\n",
       "<style scoped>\n",
       "    .dataframe tbody tr th:only-of-type {\n",
       "        vertical-align: middle;\n",
       "    }\n",
       "\n",
       "    .dataframe tbody tr th {\n",
       "        vertical-align: top;\n",
       "    }\n",
       "\n",
       "    .dataframe thead th {\n",
       "        text-align: right;\n",
       "    }\n",
       "</style>\n",
       "<table border=\"1\" class=\"dataframe\">\n",
       "  <thead>\n",
       "    <tr style=\"text-align: right;\">\n",
       "      <th></th>\n",
       "      <th>English</th>\n",
       "      <th>TSE</th>\n",
       "      <th>Exchange</th>\n",
       "      <th>Industry</th>\n",
       "      <th>Source</th>\n",
       "      <th>Japanese</th>\n",
       "      <th>Romaji</th>\n",
       "    </tr>\n",
       "  </thead>\n",
       "  <tbody>\n",
       "    <tr>\n",
       "      <th>1528</th>\n",
       "      <td>Kyokuyo Co. Ltd.</td>\n",
       "      <td>1301</td>\n",
       "      <td>XTKS</td>\n",
       "      <td>Food Products</td>\n",
       "      <td>1WSJ</td>\n",
       "      <td>NaN</td>\n",
       "      <td>NaN</td>\n",
       "    </tr>\n",
       "    <tr>\n",
       "      <th>2029</th>\n",
       "      <td>Nippon Suisan Kaisha Ltd.</td>\n",
       "      <td>1332</td>\n",
       "      <td>XTKS</td>\n",
       "      <td>Fishing</td>\n",
       "      <td>1WSJ</td>\n",
       "      <td>NaN</td>\n",
       "      <td>NaN</td>\n",
       "    </tr>\n",
       "    <tr>\n",
       "      <th>1630</th>\n",
       "      <td>Maruha Nichiro Corp.</td>\n",
       "      <td>1333</td>\n",
       "      <td>XTKS</td>\n",
       "      <td>Fishing</td>\n",
       "      <td>1WSJ</td>\n",
       "      <td>NaN</td>\n",
       "      <td>NaN</td>\n",
       "    </tr>\n",
       "    <tr>\n",
       "      <th>3606</th>\n",
       "      <td>Maruha Nichiro</td>\n",
       "      <td>1333</td>\n",
       "      <td>NaN</td>\n",
       "      <td>NaN</td>\n",
       "      <td>2WIKI</td>\n",
       "      <td>マルハニチロ株式会社</td>\n",
       "      <td>Maruha Nichiro Kabushiki-gaisha</td>\n",
       "    </tr>\n",
       "    <tr>\n",
       "      <th>997</th>\n",
       "      <td>Hohsui Corp.</td>\n",
       "      <td>1352</td>\n",
       "      <td>XTKS</td>\n",
       "      <td>Food Retail</td>\n",
       "      <td>1WSJ</td>\n",
       "      <td>NaN</td>\n",
       "      <td>NaN</td>\n",
       "    </tr>\n",
       "  </tbody>\n",
       "</table>\n",
       "</div>"
      ],
      "text/plain": [
       "                        English   TSE Exchange       Industry Source  \\\n",
       "1528           Kyokuyo Co. Ltd.  1301     XTKS  Food Products   1WSJ   \n",
       "2029  Nippon Suisan Kaisha Ltd.  1332     XTKS        Fishing   1WSJ   \n",
       "1630       Maruha Nichiro Corp.  1333     XTKS        Fishing   1WSJ   \n",
       "3606             Maruha Nichiro  1333      NaN            NaN  2WIKI   \n",
       "997                Hohsui Corp.  1352     XTKS    Food Retail   1WSJ   \n",
       "\n",
       "        Japanese                           Romaji  \n",
       "1528         NaN                              NaN  \n",
       "2029         NaN                              NaN  \n",
       "1630         NaN                              NaN  \n",
       "3606  マルハニチロ株式会社  Maruha Nichiro Kabushiki-gaisha  \n",
       "997          NaN                              NaN  "
      ]
     },
     "execution_count": 52,
     "metadata": {},
     "output_type": "execute_result"
    }
   ],
   "source": [
    "df = df.sort_values(by=['TSE', 'Source'])\n",
    "df.head()"
   ]
  },
  {
   "cell_type": "code",
   "execution_count": 54,
   "metadata": {
    "collapsed": false,
    "jupyter": {
     "outputs_hidden": false
    },
    "pycharm": {
     "name": "#%%\n"
    }
   },
   "outputs": [
    {
     "data": {
      "text/html": [
       "<div>\n",
       "<style scoped>\n",
       "    .dataframe tbody tr th:only-of-type {\n",
       "        vertical-align: middle;\n",
       "    }\n",
       "\n",
       "    .dataframe tbody tr th {\n",
       "        vertical-align: top;\n",
       "    }\n",
       "\n",
       "    .dataframe thead th {\n",
       "        text-align: right;\n",
       "    }\n",
       "</style>\n",
       "<table border=\"1\" class=\"dataframe\">\n",
       "  <thead>\n",
       "    <tr style=\"text-align: right;\">\n",
       "      <th></th>\n",
       "      <th>English</th>\n",
       "      <th>TSE</th>\n",
       "      <th>Exchange</th>\n",
       "      <th>Industry</th>\n",
       "      <th>Source</th>\n",
       "      <th>Japanese</th>\n",
       "      <th>Romaji</th>\n",
       "    </tr>\n",
       "  </thead>\n",
       "  <tbody>\n",
       "    <tr>\n",
       "      <th>40</th>\n",
       "      <td>AGC Inc.</td>\n",
       "      <td>5201</td>\n",
       "      <td>XTKS</td>\n",
       "      <td>Industrial Products</td>\n",
       "      <td>1WSJ</td>\n",
       "      <td>NaN</td>\n",
       "      <td>NaN</td>\n",
       "    </tr>\n",
       "    <tr>\n",
       "      <th>3327</th>\n",
       "      <td>AGC</td>\n",
       "      <td>5201</td>\n",
       "      <td>NaN</td>\n",
       "      <td>NaN</td>\n",
       "      <td>2WIKI</td>\n",
       "      <td>AGC</td>\n",
       "      <td>Ei Jī Shī</td>\n",
       "    </tr>\n",
       "    <tr>\n",
       "      <th>3354</th>\n",
       "      <td>ASICS Corporation</td>\n",
       "      <td>5201</td>\n",
       "      <td>NaN</td>\n",
       "      <td>NaN</td>\n",
       "      <td>2WIKI</td>\n",
       "      <td>アシックス</td>\n",
       "      <td>Ashikkusu</td>\n",
       "    </tr>\n",
       "  </tbody>\n",
       "</table>\n",
       "</div>"
      ],
      "text/plain": [
       "                English   TSE Exchange             Industry Source Japanese  \\\n",
       "40             AGC Inc.  5201     XTKS  Industrial Products   1WSJ      NaN   \n",
       "3327                AGC  5201      NaN                  NaN  2WIKI      AGC   \n",
       "3354  ASICS Corporation  5201      NaN                  NaN  2WIKI    アシックス   \n",
       "\n",
       "         Romaji  \n",
       "40          NaN  \n",
       "3327  Ei Jī Shī  \n",
       "3354  Ashikkusu  "
      ]
     },
     "execution_count": 54,
     "metadata": {},
     "output_type": "execute_result"
    }
   ],
   "source": [
    "df['TSE'].value_counts()\n",
    "df[df['TSE'] == '5201']"
   ]
  },
  {
   "cell_type": "markdown",
   "metadata": {
    "pycharm": {
     "name": "#%% md\n"
    }
   },
   "source": [
    "### Deduplicate"
   ]
  },
  {
   "cell_type": "code",
   "execution_count": 41,
   "metadata": {
    "collapsed": false,
    "jupyter": {
     "outputs_hidden": false
    },
    "pycharm": {
     "name": "#%%\n"
    }
   },
   "outputs": [
    {
     "name": "stdout",
     "output_type": "stream",
     "text": [
      "<class 'pandas.core.frame.DataFrame'>\n",
      "RangeIndex: 3385 entries, 0 to 3384\n",
      "Data columns (total 7 columns):\n",
      " #   Column    Non-Null Count  Dtype \n",
      "---  ------    --------------  ----- \n",
      " 0   English   3385 non-null   object\n",
      " 1   TSE       3384 non-null   object\n",
      " 2   Exchange  3081 non-null   object\n",
      " 3   Industry  3077 non-null   object\n",
      " 4   Source    3385 non-null   object\n",
      " 5   Japanese  303 non-null    object\n",
      " 6   Romaji    303 non-null    object\n",
      "dtypes: object(7)\n",
      "memory usage: 185.2+ KB\n"
     ]
    },
    {
     "data": {
      "text/html": [
       "<div>\n",
       "<style scoped>\n",
       "    .dataframe tbody tr th:only-of-type {\n",
       "        vertical-align: middle;\n",
       "    }\n",
       "\n",
       "    .dataframe tbody tr th {\n",
       "        vertical-align: top;\n",
       "    }\n",
       "\n",
       "    .dataframe thead th {\n",
       "        text-align: right;\n",
       "    }\n",
       "</style>\n",
       "<table border=\"1\" class=\"dataframe\">\n",
       "  <thead>\n",
       "    <tr style=\"text-align: right;\">\n",
       "      <th></th>\n",
       "      <th>English</th>\n",
       "      <th>TSE</th>\n",
       "      <th>Exchange</th>\n",
       "      <th>Industry</th>\n",
       "      <th>Source</th>\n",
       "      <th>Japanese</th>\n",
       "      <th>Romaji</th>\n",
       "    </tr>\n",
       "  </thead>\n",
       "  <tbody>\n",
       "    <tr>\n",
       "      <th>0</th>\n",
       "      <td>&amp;Do Holdings Co. Ltd.</td>\n",
       "      <td>3457</td>\n",
       "      <td>XTKS</td>\n",
       "      <td>Real Estate Developers</td>\n",
       "      <td>1WSJ</td>\n",
       "      <td>NaN</td>\n",
       "      <td>NaN</td>\n",
       "    </tr>\n",
       "    <tr>\n",
       "      <th>1</th>\n",
       "      <td>21LADY Co. Ltd.</td>\n",
       "      <td>3346</td>\n",
       "      <td>XNGO</td>\n",
       "      <td>Diversified Business Services</td>\n",
       "      <td>1WSJ</td>\n",
       "      <td>NaN</td>\n",
       "      <td>NaN</td>\n",
       "    </tr>\n",
       "    <tr>\n",
       "      <th>2</th>\n",
       "      <td>3-D Matrix Ltd.</td>\n",
       "      <td>7777</td>\n",
       "      <td>XJAS</td>\n",
       "      <td>Chemicals</td>\n",
       "      <td>1WSJ</td>\n",
       "      <td>NaN</td>\n",
       "      <td>NaN</td>\n",
       "    </tr>\n",
       "    <tr>\n",
       "      <th>3</th>\n",
       "      <td>4Cs HD Co. Ltd.</td>\n",
       "      <td>3726</td>\n",
       "      <td>XTKS</td>\n",
       "      <td>Specialty Retail</td>\n",
       "      <td>1WSJ</td>\n",
       "      <td>NaN</td>\n",
       "      <td>NaN</td>\n",
       "    </tr>\n",
       "    <tr>\n",
       "      <th>4</th>\n",
       "      <td>77 Bank</td>\n",
       "      <td>8341</td>\n",
       "      <td>NaN</td>\n",
       "      <td>NaN</td>\n",
       "      <td>2WIKI</td>\n",
       "      <td>株式会社七十七銀行</td>\n",
       "      <td>Kabushiki-gaisha Shichijūshichi Ginkō</td>\n",
       "    </tr>\n",
       "  </tbody>\n",
       "</table>\n",
       "</div>"
      ],
      "text/plain": [
       "                 English   TSE Exchange                       Industry Source  \\\n",
       "0  &Do Holdings Co. Ltd.  3457     XTKS         Real Estate Developers   1WSJ   \n",
       "1        21LADY Co. Ltd.  3346     XNGO  Diversified Business Services   1WSJ   \n",
       "2        3-D Matrix Ltd.  7777     XJAS                      Chemicals   1WSJ   \n",
       "3        4Cs HD Co. Ltd.  3726     XTKS               Specialty Retail   1WSJ   \n",
       "4                77 Bank  8341      NaN                            NaN  2WIKI   \n",
       "\n",
       "    Japanese                                 Romaji  \n",
       "0        NaN                                    NaN  \n",
       "1        NaN                                    NaN  \n",
       "2        NaN                                    NaN  \n",
       "3        NaN                                    NaN  \n",
       "4  株式会社七十七銀行  Kabushiki-gaisha Shichijūshichi Ginkō  "
      ]
     },
     "execution_count": 41,
     "metadata": {},
     "output_type": "execute_result"
    }
   ],
   "source": [
    "df = df.drop_duplicates(subset=['TSE'], keep='first').reset_index(drop=True)\n",
    "df.info()\n",
    "df.head()"
   ]
  },
  {
   "cell_type": "code",
   "execution_count": 44,
   "metadata": {
    "collapsed": false,
    "jupyter": {
     "outputs_hidden": false
    },
    "pycharm": {
     "name": "#%%\n"
    }
   },
   "outputs": [
    {
     "name": "stdout",
     "output_type": "stream",
     "text": [
      "Finished\n"
     ]
    }
   ],
   "source": [
    "output_columns = [\n",
    "    'English', 'Japanese', 'Industry', 'TSE', 'Exchange', 'Source'\n",
    "]\n",
    "df.to_csv('japanese_companies.csv', index=False, encoding='UTF-8', columns=output_columns)\n",
    "print('Finished')"
   ]
  },
  {
   "cell_type": "code",
   "execution_count": 45,
   "metadata": {
    "collapsed": false,
    "jupyter": {
     "outputs_hidden": false
    },
    "pycharm": {
     "name": "#%%\n"
    }
   },
   "outputs": [
    {
     "data": {
      "text/html": [
       "<div>\n",
       "<style scoped>\n",
       "    .dataframe tbody tr th:only-of-type {\n",
       "        vertical-align: middle;\n",
       "    }\n",
       "\n",
       "    .dataframe tbody tr th {\n",
       "        vertical-align: top;\n",
       "    }\n",
       "\n",
       "    .dataframe thead th {\n",
       "        text-align: right;\n",
       "    }\n",
       "</style>\n",
       "<table border=\"1\" class=\"dataframe\">\n",
       "  <thead>\n",
       "    <tr style=\"text-align: right;\">\n",
       "      <th></th>\n",
       "      <th>English</th>\n",
       "      <th>Japanese</th>\n",
       "      <th>Industry</th>\n",
       "      <th>TSE</th>\n",
       "      <th>Exchange</th>\n",
       "      <th>Source</th>\n",
       "    </tr>\n",
       "  </thead>\n",
       "  <tbody>\n",
       "    <tr>\n",
       "      <th>0</th>\n",
       "      <td>&amp;Do Holdings Co. Ltd.</td>\n",
       "      <td>NaN</td>\n",
       "      <td>Real Estate Developers</td>\n",
       "      <td>3457</td>\n",
       "      <td>XTKS</td>\n",
       "      <td>1WSJ</td>\n",
       "    </tr>\n",
       "    <tr>\n",
       "      <th>1</th>\n",
       "      <td>21LADY Co. Ltd.</td>\n",
       "      <td>NaN</td>\n",
       "      <td>Diversified Business Services</td>\n",
       "      <td>3346</td>\n",
       "      <td>XNGO</td>\n",
       "      <td>1WSJ</td>\n",
       "    </tr>\n",
       "    <tr>\n",
       "      <th>2</th>\n",
       "      <td>3-D Matrix Ltd.</td>\n",
       "      <td>NaN</td>\n",
       "      <td>Chemicals</td>\n",
       "      <td>7777</td>\n",
       "      <td>XJAS</td>\n",
       "      <td>1WSJ</td>\n",
       "    </tr>\n",
       "    <tr>\n",
       "      <th>3</th>\n",
       "      <td>4Cs HD Co. Ltd.</td>\n",
       "      <td>NaN</td>\n",
       "      <td>Specialty Retail</td>\n",
       "      <td>3726</td>\n",
       "      <td>XTKS</td>\n",
       "      <td>1WSJ</td>\n",
       "    </tr>\n",
       "    <tr>\n",
       "      <th>4</th>\n",
       "      <td>77 Bank</td>\n",
       "      <td>株式会社七十七銀行</td>\n",
       "      <td>NaN</td>\n",
       "      <td>8341</td>\n",
       "      <td>NaN</td>\n",
       "      <td>2WIKI</td>\n",
       "    </tr>\n",
       "    <tr>\n",
       "      <th>...</th>\n",
       "      <td>...</td>\n",
       "      <td>...</td>\n",
       "      <td>...</td>\n",
       "      <td>...</td>\n",
       "      <td>...</td>\n",
       "      <td>...</td>\n",
       "    </tr>\n",
       "    <tr>\n",
       "      <th>95</th>\n",
       "      <td>Akatsuki Corp.</td>\n",
       "      <td>NaN</td>\n",
       "      <td>Securities</td>\n",
       "      <td>8737</td>\n",
       "      <td>XTKS</td>\n",
       "      <td>1WSJ</td>\n",
       "    </tr>\n",
       "    <tr>\n",
       "      <th>96</th>\n",
       "      <td>Akatsuki Inc.</td>\n",
       "      <td>NaN</td>\n",
       "      <td>Toys &amp; Games</td>\n",
       "      <td>3932</td>\n",
       "      <td>XTKS</td>\n",
       "      <td>1WSJ</td>\n",
       "    </tr>\n",
       "    <tr>\n",
       "      <th>97</th>\n",
       "      <td>Akebono Brake Industry</td>\n",
       "      <td>曙ブレーキ工業株式会社</td>\n",
       "      <td>NaN</td>\n",
       "      <td>7238</td>\n",
       "      <td>NaN</td>\n",
       "      <td>2WIKI</td>\n",
       "    </tr>\n",
       "    <tr>\n",
       "      <th>98</th>\n",
       "      <td>Akita Bank</td>\n",
       "      <td>株式会社秋田銀行</td>\n",
       "      <td>NaN</td>\n",
       "      <td>8343</td>\n",
       "      <td>NaN</td>\n",
       "      <td>2WIKI</td>\n",
       "    </tr>\n",
       "    <tr>\n",
       "      <th>99</th>\n",
       "      <td>Albert Inc.</td>\n",
       "      <td>NaN</td>\n",
       "      <td>Advertising/Marketing/Public Relations</td>\n",
       "      <td>3906</td>\n",
       "      <td>XTKS</td>\n",
       "      <td>1WSJ</td>\n",
       "    </tr>\n",
       "  </tbody>\n",
       "</table>\n",
       "<p>100 rows × 6 columns</p>\n",
       "</div>"
      ],
      "text/plain": [
       "                   English     Japanese  \\\n",
       "0    &Do Holdings Co. Ltd.          NaN   \n",
       "1          21LADY Co. Ltd.          NaN   \n",
       "2          3-D Matrix Ltd.          NaN   \n",
       "3          4Cs HD Co. Ltd.          NaN   \n",
       "4                  77 Bank    株式会社七十七銀行   \n",
       "..                     ...          ...   \n",
       "95          Akatsuki Corp.          NaN   \n",
       "96           Akatsuki Inc.          NaN   \n",
       "97  Akebono Brake Industry  曙ブレーキ工業株式会社   \n",
       "98              Akita Bank     株式会社秋田銀行   \n",
       "99             Albert Inc.          NaN   \n",
       "\n",
       "                                  Industry   TSE Exchange Source  \n",
       "0                   Real Estate Developers  3457     XTKS   1WSJ  \n",
       "1            Diversified Business Services  3346     XNGO   1WSJ  \n",
       "2                                Chemicals  7777     XJAS   1WSJ  \n",
       "3                         Specialty Retail  3726     XTKS   1WSJ  \n",
       "4                                      NaN  8341      NaN  2WIKI  \n",
       "..                                     ...   ...      ...    ...  \n",
       "95                              Securities  8737     XTKS   1WSJ  \n",
       "96                            Toys & Games  3932     XTKS   1WSJ  \n",
       "97                                     NaN  7238      NaN  2WIKI  \n",
       "98                                     NaN  8343      NaN  2WIKI  \n",
       "99  Advertising/Marketing/Public Relations  3906     XTKS   1WSJ  \n",
       "\n",
       "[100 rows x 6 columns]"
      ]
     },
     "execution_count": 45,
     "metadata": {},
     "output_type": "execute_result"
    }
   ],
   "source": [
    "df[output_columns].head(100)"
   ]
  }
 ],
 "metadata": {
  "kernelspec": {
   "display_name": "Python 3 (ipykernel)",
   "language": "python",
   "name": "python3"
  },
  "language_info": {
   "codemirror_mode": {
    "name": "ipython",
    "version": 3
   },
   "file_extension": ".py",
   "mimetype": "text/x-python",
   "name": "python",
   "nbconvert_exporter": "python",
   "pygments_lexer": "ipython3",
   "version": "3.9.12"
  }
 },
 "nbformat": 4,
 "nbformat_minor": 4
}
